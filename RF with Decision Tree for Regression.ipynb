{
 "cells": [
  {
   "cell_type": "code",
   "execution_count": 10,
   "metadata": {},
   "outputs": [],
   "source": [
    "from sklearn import datasets\n",
    "from sklearn.model_selection import train_test_split\n",
    "import numpy as np\n",
    "import matplotlib.pyplot as plt\n",
    "from tqdm import tqdm\n",
    "\n",
    "X, y = datasets.make_regression(n_samples=500)\n",
    "X_train, X_test, y_train, y_test = train_test_split(X, y)"
   ]
  },
  {
   "cell_type": "code",
   "execution_count": 11,
   "metadata": {},
   "outputs": [],
   "source": [
    "class Node:\n",
    "    def __init__(self, feature=None, threshold=None, left=None, right=None, *, value=None):\n",
    "        self.feature = feature\n",
    "        self.threshold = threshold\n",
    "        self.left = left\n",
    "        self.right = right\n",
    "        self.value = value\n",
    "        \n",
    "    def is_leaf_node(self):\n",
    "        return self.value is not None"
   ]
  },
  {
   "cell_type": "code",
   "execution_count": 12,
   "metadata": {},
   "outputs": [],
   "source": [
    "class DecisionTree:\n",
    "    def __init__(self, max_depth=100, min_samples=10):\n",
    "        self.max_depth = max_depth\n",
    "        self.min_samples = min_samples\n",
    "        self.tree = None\n",
    "    \n",
    "    def fit(self, X, y):\n",
    "        self.tree = self.grow_tree(X, y)\n",
    "    \n",
    "    def predict(self, X):\n",
    "        return np.array([self.travers_tree(x, self.tree) for x in X])\n",
    "    \n",
    "    def entropy(self, y):\n",
    "        c = np.sum(y) / len(y)\n",
    "        mse = np.sum((c - y)**2) / len(y)\n",
    "        mae = np.sum(np.abs(c - y)) / len(y)\n",
    "        return mse\n",
    "    \n",
    "    def most_common(self, y):\n",
    "        c = np.sum(y) / len(y)\n",
    "        return c\n",
    "    \n",
    "    def best_split(self, X, y):\n",
    "        best_feature, best_threshold = None, None\n",
    "        best_gain = -1\n",
    "        \n",
    "        index = np.random.choice(X.shape[1])\n",
    "        \n",
    "        for i in [index]:\n",
    "            thresholds = np.unique(X[:, i])\n",
    "            for threshold in thresholds:\n",
    "                gain = self.information_gain(X[:, i], y, threshold)\n",
    "                if gain > best_gain:\n",
    "                    best_gain = gain\n",
    "                    best_feature = i\n",
    "                    best_threshold = threshold\n",
    "        return best_feature, best_threshold\n",
    "    \n",
    "    def information_gain(self, X_column, y, threshold):               \n",
    "        n = len(y)\n",
    "        parent = self.entropy(y)\n",
    "        \n",
    "        left_indexes = np.argwhere(X_column <= threshold).flatten()\n",
    "        right_indexes = np.argwhere(X_column > threshold).flatten()\n",
    "        \n",
    "        if len(left_indexes) == 0 or len(right_indexes) == 0:\n",
    "            return 0\n",
    "        \n",
    "        e_l, n_l = self.entropy(y[left_indexes]), len(left_indexes)\n",
    "        e_r, n_r = self.entropy(y[right_indexes]), len(right_indexes)\n",
    "        \n",
    "        child = (n_l / n) * e_l + (n_r / n) * e_r\n",
    "        return parent - child\n",
    "    \n",
    "    def grow_tree(self, X, y, depth=0):\n",
    "        n_samples = len(y)\n",
    "        n_labels = len(np.unique(y))\n",
    "         \n",
    "        if n_labels == 1 or depth >= self.max_depth or n_samples <= self.min_samples:\n",
    "            return Node(value=self.most_common(y))\n",
    "        \n",
    "        best_feature, best_threshold = self.best_split(X, y)\n",
    "        \n",
    "        left_indexes = np.argwhere(X[:, best_feature] <= best_threshold).flatten()\n",
    "        right_indexes = np.argwhere(X[:, best_feature] > best_threshold).flatten()\n",
    "        \n",
    "        left = self.grow_tree(X[left_indexes, :], y[left_indexes], depth+1)\n",
    "        right = self.grow_tree(X[right_indexes, :], y[right_indexes], depth+1)\n",
    "        \n",
    "        return Node(best_feature, best_threshold, left, right)\n",
    "    \n",
    "    def travers_tree(self, x, tree):\n",
    "        if tree.is_leaf_node():\n",
    "            return tree.value\n",
    "        \n",
    "        if x[tree.feature] < tree.threshold:\n",
    "            return self.travers_tree(x, tree.left)\n",
    "        return self.travers_tree(x, tree.right)"
   ]
  },
  {
   "cell_type": "code",
   "execution_count": 13,
   "metadata": {},
   "outputs": [],
   "source": [
    "class RandomForest:\n",
    "    def __init__(self, n_trees=3, max_depth=100, min_samples=5):\n",
    "        self.n_trees = n_trees\n",
    "        self.max_depth = max_depth\n",
    "        self.min_samples = min_samples\n",
    "        self.trees = []\n",
    "        self.n_samples = None\n",
    "        self.samples = []\n",
    "        self.oob_samples = []\n",
    "        self.oob_results = []\n",
    "        \n",
    "    def fit(self, X, y):\n",
    "        self.n_samples = X.shape[0]\n",
    "        for i in range(self.n_trees):\n",
    "            samples = np.random.choice(self.n_samples, self.n_samples, replace=True)\n",
    "            oob_samples = np.array([j for j in range(self.n_samples) if j not in samples])\n",
    "            \n",
    "            tree = DecisionTree(max_depth = self.max_depth, min_samples=self.min_samples)\n",
    "            tree.fit(X[samples, :], y[samples])\n",
    "            self.oob_results.append(tree.predict(X[oob_samples, :]))\n",
    "            \n",
    "            self.trees.append(tree)\n",
    "            self.samples.append(samples)\n",
    "            self.oob_samples.append(oob_samples)\n",
    "\n",
    "    def predict(self, X):\n",
    "        predictions = []\n",
    "        for i in range(self.n_trees):\n",
    "            predictions.append(self.trees[i].predict(X))\n",
    "        \n",
    "        predictions = [self.trees[0].most_common(np.array(predictions)[:, i]) for i in range(X.shape[0])]\n",
    "        \n",
    "        return predictions\n",
    "    \n",
    "    def oob_score(self):\n",
    "        predictions = np.ones((self.n_trees, self.n_samples)) * np.nan\n",
    "        \n",
    "        for i in range(self.n_trees):\n",
    "            for index, sample in enumerate(self.oob_samples[i]):\n",
    "                predictions[i, sample] = self.oob_results[i][index]\n",
    "        \n",
    "        y_voted = []\n",
    "        y_real = []\n",
    "        \n",
    "        for i in range(self.n_samples):\n",
    "            oob_y = predictions[np.isnan(predictions[:, i])==False, i]\n",
    "            if len(oob_y) >= 1:\n",
    "                y_voted.append(self.trees[0].most_common(oob_y))\n",
    "                y_real.append(y[i] * 1.0)\n",
    "        \n",
    "        return self.score(np.array(y_voted), np.array(y_real))\n",
    "    \n",
    "    def score(self, predicted, y):\n",
    "        return 1 - np.sum((predicted - y)**2) / np.sum((y.mean() - y)**2)"
   ]
  },
  {
   "cell_type": "code",
   "execution_count": 14,
   "metadata": {},
   "outputs": [],
   "source": [
    "clf = RandomForest()\n",
    "clf.fit(X_train, y_train)"
   ]
  },
  {
   "cell_type": "code",
   "execution_count": 15,
   "metadata": {},
   "outputs": [
    {
     "data": {
      "text/plain": [
       "-0.8680334170809756"
      ]
     },
     "execution_count": 15,
     "metadata": {},
     "output_type": "execute_result"
    }
   ],
   "source": [
    "clf.oob_score()"
   ]
  },
  {
   "cell_type": "code",
   "execution_count": null,
   "metadata": {},
   "outputs": [
    {
     "name": "stderr",
     "output_type": "stream",
     "text": [
      "  7%|█████▉                                                                             | 7/97 [00:43<11:24,  7.61s/it]"
     ]
    }
   ],
   "source": [
    "test_score = []\n",
    "train_score = []\n",
    "oob_score = []\n",
    "n_trees = []\n",
    "\n",
    "for i in tqdm(range(3, 100)):\n",
    "    clf = RandomForest(n_trees=i)\n",
    "    clf.fit(X_train, y_train)\n",
    "    \n",
    "    train_score.append(clf.score(clf.predict(X_train), y_train))\n",
    "    test_score.append(clf.score(clf.predict(X_test), y_test))\n",
    "    oob_score.append(clf.oob_score())\n",
    "    \n",
    "    n_trees.append(i)"
   ]
  },
  {
   "cell_type": "code",
   "execution_count": 9,
   "metadata": {},
   "outputs": [
    {
     "data": {
      "image/png": "[encoded data removed]",
      "text/plain": [
       "<Figure size 432x288 with 1 Axes>"
      ]
     },
     "metadata": {
      "needs_background": "light"
     },
     "output_type": "display_data"
    }
   ],
   "source": [
    "plt.plot(n_trees, 1 - np.array(test_score), label=\"test score\")\n",
    "plt.plot(n_trees, 1 - np.array(train_score), label=\"train score\")\n",
    "# plt.plot(n_trees, oob_score, label=\"oob_score\")\n",
    "plt.legend()\n",
    "plt.ylabel(\"error\")\n",
    "plt.xlabel(\"n trees\")\n",
    "plt.show()"
   ]
  },
  {
   "cell_type": "code",
   "execution_count": null,
   "metadata": {},
   "outputs": [],
   "source": []
  },
  {
   "cell_type": "code",
   "execution_count": null,
   "metadata": {},
   "outputs": [],
   "source": []
  },
  {
   "cell_type": "code",
   "execution_count": null,
   "metadata": {},
   "outputs": [],
   "source": []
  },
  {
   "cell_type": "code",
   "execution_count": null,
   "metadata": {},
   "outputs": [],
   "source": []
  },
  {
   "cell_type": "code",
   "execution_count": null,
   "metadata": {},
   "outputs": [],
   "source": []
  }
 ],
 "metadata": {
  "kernelspec": {
   "display_name": "Python 3 (ipykernel)",
   "language": "python",
   "name": "python3"
  },
  "language_info": {
   "codemirror_mode": {
    "name": "ipython",
    "version": 3
   },
   "file_extension": ".py",
   "mimetype": "text/x-python",
   "name": "python",
   "nbconvert_exporter": "python",
   "pygments_lexer": "ipython3",
   "version": "3.8.3"
  },
  "toc": {
   "base_numbering": 1,
   "nav_menu": {},
   "number_sections": true,
   "sideBar": true,
   "skip_h1_title": false,
   "title_cell": "Table of Contents",
   "title_sidebar": "Contents",
   "toc_cell": false,
   "toc_position": {},
   "toc_section_display": true,
   "toc_window_display": false
  },
  "varInspector": {
   "cols": {
    "lenName": 16,
    "lenType": 16,
    "lenVar": 40
   },
   "kernels_config": {
    "python": {
     "delete_cmd_postfix": "",
     "delete_cmd_prefix": "del ",
     "library": "var_list.py",
     "varRefreshCmd": "print(var_dic_list())"
    },
    "r": {
     "delete_cmd_postfix": ") ",
     "delete_cmd_prefix": "rm(",
     "library": "var_list.r",
     "varRefreshCmd": "cat(var_dic_list()) "
    }
   },
   "types_to_exclude": [
    "module",
    "function",
    "builtin_function_or_method",
    "instance",
    "_Feature"
   ],
   "window_display": false
  }
 },
 "nbformat": 4,
 "nbformat_minor": 4
}
