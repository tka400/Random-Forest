{
 "cells": [
  {
   "cell_type": "code",
   "execution_count": 38,
   "metadata": {},
   "outputs": [],
   "source": [
    "from sklearn import datasets\r\n",
    "from sklearn.model_selection import train_test_split\r\n",
    "import numpy as np\r\n",
    "import matplotlib.pyplot as plt\r\n",
    "from tqdm import tqdm\r\n",
    "\r\n",
    "X, y = datasets.make_regression(n_samples=500, n_features=5, n_informative=3)\r\n",
    "X_train, X_test, y_train, y_test = train_test_split(X, y)"
   ]
  },
  {
   "cell_type": "code",
   "execution_count": 39,
   "metadata": {},
   "outputs": [],
   "source": [
    "class Node:\n",
    "    def __init__(self, feature=None, threshold=None, left=None, right=None, *, value=None):\n",
    "        self.feature = feature\n",
    "        self.threshold = threshold\n",
    "        self.left = left\n",
    "        self.right = right\n",
    "        self.value = value\n",
    "        \n",
    "    def is_leaf_node(self):\n",
    "        return self.value is not None"
   ]
  },
  {
   "cell_type": "code",
   "execution_count": 40,
   "metadata": {},
   "outputs": [],
   "source": [
    "class DecisionTree:\r\n",
    "    def __init__(self, max_depth=20, min_samples=5):\r\n",
    "        self.max_depth = max_depth\r\n",
    "        self.min_samples = min_samples\r\n",
    "        self.tree = None\r\n",
    "    \r\n",
    "    def fit(self, X, y):\r\n",
    "        self.tree = self.grow_tree(X, y)\r\n",
    "    \r\n",
    "    def predict(self, X):\r\n",
    "        return np.array([self.travers_tree(x, self.tree) for x in X])\r\n",
    "    \r\n",
    "    def entropy(self, y):\r\n",
    "        c = np.sum(y) / len(y)\r\n",
    "        mse = np.sum((c - y)**2) / len(y)\r\n",
    "        mae = np.sum(np.abs(c - y)) / len(y)\r\n",
    "        return mse\r\n",
    "    \r\n",
    "    def most_common(self, y):\r\n",
    "        c = np.sum(y) / len(y)\r\n",
    "        return c\r\n",
    "    \r\n",
    "    def best_split(self, X, y):\r\n",
    "        best_feature, best_threshold = None, None\r\n",
    "        best_gain = -1\r\n",
    "        \r\n",
    "        index = np.random.choice(X.shape[1])\r\n",
    "        \r\n",
    "        for i in [index]:\r\n",
    "            thresholds = np.unique(X[:, i])\r\n",
    "            for threshold in thresholds:\r\n",
    "                gain = self.information_gain(X[:, i], y, threshold)\r\n",
    "                if gain > best_gain:\r\n",
    "                    best_gain = gain\r\n",
    "                    best_feature = i\r\n",
    "                    best_threshold = threshold\r\n",
    "        return best_feature, best_threshold\r\n",
    "    \r\n",
    "    def information_gain(self, X_column, y, threshold):               \r\n",
    "        n = len(y)\r\n",
    "        parent = self.entropy(y)\r\n",
    "        \r\n",
    "        left_indexes = np.argwhere(X_column <= threshold).flatten()\r\n",
    "        right_indexes = np.argwhere(X_column > threshold).flatten()\r\n",
    "        \r\n",
    "        if len(left_indexes) == 0 or len(right_indexes) == 0:\r\n",
    "            return 0\r\n",
    "        \r\n",
    "        e_l, n_l = self.entropy(y[left_indexes]), len(left_indexes)\r\n",
    "        e_r, n_r = self.entropy(y[right_indexes]), len(right_indexes)\r\n",
    "        \r\n",
    "        child = (n_l / n) * e_l + (n_r / n) * e_r\r\n",
    "        return parent - child\r\n",
    "    \r\n",
    "    def grow_tree(self, X, y, depth=0):\r\n",
    "        n_samples = len(y)\r\n",
    "        n_labels = len(np.unique(y))\r\n",
    "         \r\n",
    "        if n_labels == 1 or depth >= self.max_depth or n_samples <= self.min_samples:\r\n",
    "            return Node(value=self.most_common(y))\r\n",
    "        \r\n",
    "        best_feature, best_threshold = self.best_split(X, y)\r\n",
    "        \r\n",
    "        left_indexes = np.argwhere(X[:, best_feature] <= best_threshold).flatten()\r\n",
    "        right_indexes = np.argwhere(X[:, best_feature] > best_threshold).flatten()\r\n",
    "        \r\n",
    "        if len(left_indexes) == 0 or len(right_indexes) == 0:\r\n",
    "            return Node(value=self.most_common(y))\r\n",
    "\r\n",
    "        left = self.grow_tree(X[left_indexes, :], y[left_indexes], depth+1)\r\n",
    "        right = self.grow_tree(X[right_indexes, :], y[right_indexes], depth+1)\r\n",
    "        \r\n",
    "        return Node(best_feature, best_threshold, left, right)\r\n",
    "    \r\n",
    "    def travers_tree(self, x, tree):\r\n",
    "        if tree.is_leaf_node():\r\n",
    "            return tree.value\r\n",
    "        \r\n",
    "        if x[tree.feature] < tree.threshold:\r\n",
    "            return self.travers_tree(x, tree.left)\r\n",
    "        return self.travers_tree(x, tree.right)"
   ]
  },
  {
   "cell_type": "code",
   "execution_count": 41,
   "metadata": {},
   "outputs": [],
   "source": [
    "class RandomForest:\n",
    "    def __init__(self, n_trees=3, max_depth=100, min_samples=5):\n",
    "        self.n_trees = n_trees\n",
    "        self.max_depth = max_depth\n",
    "        self.min_samples = min_samples\n",
    "        self.trees = []\n",
    "        self.n_samples = None\n",
    "        self.samples = []\n",
    "        self.oob_samples = []\n",
    "        self.oob_results = []\n",
    "        \n",
    "    def fit(self, X, y):\n",
    "        self.n_samples = X.shape[0]\n",
    "        for i in range(self.n_trees):\n",
    "            samples = np.random.choice(self.n_samples, self.n_samples, replace=True)\n",
    "            oob_samples = np.array([j for j in range(self.n_samples) if j not in samples])\n",
    "            \n",
    "            tree = DecisionTree(max_depth = self.max_depth, min_samples=self.min_samples)\n",
    "            tree.fit(X[samples, :], y[samples])\n",
    "            self.oob_results.append(tree.predict(X[oob_samples, :]))\n",
    "            \n",
    "            self.trees.append(tree)\n",
    "            self.samples.append(samples)\n",
    "            self.oob_samples.append(oob_samples)\n",
    "\n",
    "    def predict(self, X):\n",
    "        predictions = []\n",
    "        for i in range(self.n_trees):\n",
    "            predictions.append(self.trees[i].predict(X))\n",
    "        \n",
    "        predictions = [self.trees[0].most_common(np.array(predictions)[:, i]) for i in range(X.shape[0])]\n",
    "        \n",
    "        return predictions\n",
    "    \n",
    "    def oob_score(self):\n",
    "        predictions = np.ones((self.n_trees, self.n_samples)) * np.nan\n",
    "        \n",
    "        for i in range(self.n_trees):\n",
    "            for index, sample in enumerate(self.oob_samples[i]):\n",
    "                predictions[i, sample] = self.oob_results[i][index]\n",
    "        \n",
    "        y_voted = []\n",
    "        y_real = []\n",
    "        \n",
    "        for i in range(self.n_samples):\n",
    "            oob_y = predictions[np.isnan(predictions[:, i])==False, i]\n",
    "            if len(oob_y) >= 1:\n",
    "                y_voted.append(self.trees[0].most_common(oob_y))\n",
    "                y_real.append(y[i] * 1.0)\n",
    "        \n",
    "        return self.score(np.array(y_voted), np.array(y_real))\n",
    "    \n",
    "    def score(self, predicted, y):\n",
    "        return 1 - np.sum((predicted - y)**2) / np.sum((y.mean() - y)**2)"
   ]
  },
  {
   "cell_type": "code",
   "execution_count": 42,
   "metadata": {},
   "outputs": [],
   "source": [
    "clf = RandomForest()\n",
    "clf.fit(X_train, y_train)"
   ]
  },
  {
   "cell_type": "code",
   "execution_count": 43,
   "metadata": {},
   "outputs": [
    {
     "data": {
      "text/plain": "-0.6963767724799592"
     },
     "execution_count": 43,
     "metadata": {},
     "output_type": "execute_result"
    }
   ],
   "source": [
    "clf.oob_score()"
   ]
  },
  {
   "cell_type": "code",
   "execution_count": 44,
   "metadata": {},
   "outputs": [
    {
     "name": "stderr",
     "output_type": "stream",
     "text": [
      "100%|██████████| 5/5 [01:37<00:00, 19.54s/it]\n"
     ]
    }
   ],
   "source": [
    "test_score = []\r\n",
    "train_score = []\r\n",
    "oob_score = []\r\n",
    "n_trees = []\r\n",
    "\r\n",
    "for i in tqdm(range(5, 100, 20)):\r\n",
    "    clf = RandomForest(n_trees=i)\r\n",
    "    clf.fit(X_train, y_train)\r\n",
    "    \r\n",
    "    train_score.append(clf.score(clf.predict(X_train), y_train))\r\n",
    "    test_score.append(clf.score(clf.predict(X_test), y_test))\r\n",
    "    oob_score.append(clf.oob_score())\r\n",
    "    \r\n",
    "    n_trees.append(i)"
   ]
  },
  {
   "cell_type": "code",
   "execution_count": 45,
   "metadata": {},
   "outputs": [
    {
     "data": {
      "image/png": "[encoded data removed]",
      "text/plain": "<Figure size 432x288 with 1 Axes>"
     },
     "metadata": {
      "needs_background": "light"
     },
     "output_type": "display_data"
    }
   ],
   "source": [
    "plt.plot(n_trees, 1 - np.array(test_score), label=\"test\")\r\n",
    "plt.plot(n_trees, 1 - np.array(train_score), label=\"train\")\r\n",
    "plt.plot(n_trees, 1 - np.array(oob_score), label=\"oob\")\r\n",
    "\r\n",
    "plt.legend()\r\n",
    "plt.ylim(0, 2)\r\n",
    "plt.ylabel(\"r2\")\r\n",
    "plt.xlabel(\"n trees\")\r\n",
    "plt.savefig(\"r2.png\")\r\n",
    "plt.show()"
   ]
  },
  {
   "cell_type": "code",
   "execution_count": null,
   "metadata": {},
   "outputs": [],
   "source": []
  },
  {
   "cell_type": "code",
   "execution_count": null,
   "metadata": {},
   "outputs": [],
   "source": []
  },
  {
   "cell_type": "code",
   "execution_count": null,
   "metadata": {},
   "outputs": [],
   "source": []
  },
  {
   "cell_type": "code",
   "execution_count": null,
   "metadata": {},
   "outputs": [],
   "source": []
  },
  {
   "cell_type": "code",
   "execution_count": null,
   "metadata": {},
   "outputs": [],
   "source": []
  }
 ],
 "metadata": {
  "kernelspec": {
   "display_name": "Python 3.8.3 64-bit",
   "name": "python383jvsc74a57bd02db524e06e9f5f4ffedc911c917cb75e12dbc923643829bf417064a77eb14d37"
  },
  "language_info": {
   "codemirror_mode": {
    "name": "ipython",
    "version": 3
   },
   "file_extension": ".py",
   "mimetype": "text/x-python",
   "name": "python",
   "nbconvert_exporter": "python",
   "pygments_lexer": "ipython3",
   "version": "3.8.3"
  },
  "toc": {
   "base_numbering": 1,
   "nav_menu": {},
   "number_sections": true,
   "sideBar": true,
   "skip_h1_title": false,
   "title_cell": "Table of Contents",
   "title_sidebar": "Contents",
   "toc_cell": false,
   "toc_position": {},
   "toc_section_display": true,
   "toc_window_display": false
  },
  "varInspector": {
   "cols": {
    "lenName": 16,
    "lenType": 16,
    "lenVar": 40
   },
   "kernels_config": {
    "python": {
     "delete_cmd_postfix": "",
     "delete_cmd_prefix": "del ",
     "library": "var_list.py",
     "varRefreshCmd": "print(var_dic_list())"
    },
    "r": {
     "delete_cmd_postfix": ") ",
     "delete_cmd_prefix": "rm(",
     "library": "var_list.r",
     "varRefreshCmd": "cat(var_dic_list()) "
    }
   },
   "types_to_exclude": [
    "module",
    "function",
    "builtin_function_or_method",
    "instance",
    "_Feature"
   ],
   "window_display": false
  }
 },
 "nbformat": 4,
 "nbformat_minor": 4
}